{
 "cells": [
  {
   "cell_type": "code",
   "execution_count": 3,
   "outputs": [],
   "source": [
    "from collections import defaultdict\n",
    "from pathlib import Path\n",
    "import networkx as nx\n",
    "from tqdm.notebook import tqdm, trange\n",
    "import pickle\n",
    "\n",
    "markers = ['o', 'v', '^', '<', '>', '8', 's', 'p', '*', 'h', 'H', 'D', 'd', 'P', 'X']\n",
    "colors = [\n",
    "    '#377eb8',\n",
    "    '#e41a1c',\n",
    "    '#4daf4a',\n",
    "    '#984ea3',\n",
    "    '#ff7f00',\n",
    "    '#ffff33',\n",
    "    '#a65628',\n",
    "    '#f781bf',\n",
    "    '#999999',\n",
    "]\n",
    "\n",
    "graph_names = [\n",
    "    # social\n",
    "    'OF',\n",
    "    'openflights',\n",
    "    # hypergraphs\n",
    "    'coauth-DBLP-proj-graph',\n",
    "    'coauth-MAG-Geology-proj-graph',\n",
    "    'threads-ask-ubuntu-proj-graph',\n",
    "    'threads-math-sx-proj-graph',\n",
    "    'threads-stack-overflow-proj-graph',\n",
    "    # temporal\n",
    "    'sx-askubuntu',\n",
    "    'sx-mathoverflow',\n",
    "    'sx-stackoverflow',\n",
    "    'sx-superuser',\n",
    "]\n",
    "\n",
    "graph_names_short = [\n",
    "    # social\n",
    "    'OF',\n",
    "    'FL',\n",
    "    # hypergraphs\n",
    "    'co-DB',\n",
    "    'co-GE',\n",
    "    'th-UB',\n",
    "    'th-MA',\n",
    "    'th-SO',\n",
    "    # temporal\n",
    "    'sx-UB',\n",
    "    'sx-MA',\n",
    "    'sx-SO',\n",
    "    'sx-SU',\n",
    "]\n",
    "\n",
    "name2nameShort = dict(zip(graph_names, graph_names_short))\n",
    "\n",
    "g2fitting = {\n",
    "    # social\n",
    "    'OF': 1,\n",
    "    'openflights': 2,\n",
    "    # hypergraphs\n",
    "    'coauth-DBLP-proj-graph': 3,\n",
    "    'coauth-MAG-Geology-proj-graph': 3,\n",
    "    'threads-ask-ubuntu-proj-graph': 1,\n",
    "    'threads-math-sx-proj-graph': 1,\n",
    "    'threads-stack-overflow-proj-graph': 1,\n",
    "    # temporal\n",
    "    'sx-askubuntu': 2,\n",
    "    'sx-mathoverflow': 2,\n",
    "    'sx-stackoverflow': 2,\n",
    "    'sx-superuser': 2,\n",
    "}\n",
    "\n",
    "g2nm = {\n",
    "    'OF': (897, 71380),\n",
    "    'openflights': (2905, 15645),\n",
    "\n",
    "    'coauth-DBLP-proj-graph': (1654109, 7713116),\n",
    "    'coauth-MAG-Geology-proj-graph': (898648, 4891112),\n",
    "    'threads-ask-ubuntu-proj-graph': (82075, 182648),\n",
    "    'threads-math-sx-proj-graph': (152702, 1088735),\n",
    "    'threads-stack-overflow-proj-graph': (2301070, 20989078),\n",
    "\n",
    "    'sx-askubuntu': (152599, 453221),\n",
    "    'sx-mathoverflow': (24668, 187939),\n",
    "    'sx-stackoverflow': (2572345, 28177464),\n",
    "    'sx-superuser': (189191, 712870),\n",
    "}\n",
    "\n",
    "gt_c_star_wt1 = {\n",
    "    'OF': 241,\n",
    "    'openflights': 64,\n",
    "\n",
    "    'coauth-DBLP-proj-graph': 83,\n",
    "    'coauth-MAG-Geology-proj-graph': 74,\n",
    "    'threads-ask-ubuntu-proj-graph': 73,\n",
    "    'threads-math-sx-proj-graph': 372,\n",
    "    'threads-stack-overflow-proj-graph': 685,\n",
    "\n",
    "    'sx-askubuntu': 152,\n",
    "    'sx-mathoverflow': 185,\n",
    "    'sx-stackoverflow': 886,\n",
    "    'sx-superuser': 202,\n",
    "}\n",
    "\n",
    "gt_c_star_more = {\n",
    "    'OF': [(241, 271), (190, 192), (157, 156), (134, 137), (119, 101)],\n",
    "    'openflights': [(64, 66), (31, 31), (17, 17), (None, None), (None, None)],\n",
    "    'coauth-DBLP-proj-graph': [(83, 88), (36, 29), (22, 24), (20, 21), (16, 16)],\n",
    "    'coauth-MAG-Geology-proj-graph': [(74, 92), (52, 49), (34, 40), (28, 30), (24, 21)],\n",
    "    'threads-ask-ubuntu-proj-graph': [(73, 87), (30, 31), (19, 20), (18, 11), (15, 11)],\n",
    "    'threads-math-sx-proj-graph': [(372, 401), (145, 153), (114, 114), (84, 67), (63, 59)],\n",
    "    'threads-stack-overflow-proj-graph': [(685, 750), (208, 205), (134, 129), (97, 82), (74, 72)],\n",
    "    'sx-askubuntu': [(152, 149), (63, 69), (48, 42), (36, 27), (31, 22)],\n",
    "    'sx-mathoverflow': [(185, 181), (113, 102), (75, 63), (60, 49), (51, 41)],\n",
    "    'sx-stackoverflow': [(886, 749), (407, 324), (221, 203), (169, 130), (120, 103)],\n",
    "    'sx-superuser': [(202, 206), (96, 93), (63, 54), (48, 37), (36, 27)],\n",
    "}\n",
    "\n",
    "p_data = Path(f'data')\n",
    "p_data.mkdir(exist_ok=True)\n",
    "\n",
    "p_results = Path('results')\n",
    "p_results.mkdir(exist_ok=True)\n",
    "\n",
    "Edge = tuple[int, int]\n",
    "EdgeAndWeight = tuple[int, int, int]\n",
    "graphs_sorted_m = sorted(graph_names, key=lambda xx: g2nm[xx][1])\n",
    "\n",
    "\n",
    "def iter_edges(input_graph, with_weight=False, desc='edges'):\n",
    "    return tqdm(input_graph.edges.data('weight', default=1) if with_weight else input_graph.edges,\n",
    "                total=input_graph.number_of_edges(), leave=False, desc=desc)\n",
    "\n",
    "\n",
    "def iter_nodes(input_graph, desc='nodes'):\n",
    "    return tqdm(input_graph.nodes, total=input_graph.number_of_nodes(), leave=False, desc=desc)\n",
    "\n",
    "\n",
    "def data_exist(ds, data_name_, layer_index=None):\n",
    "    if layer_index is not None:\n",
    "        return (p_data / data_name_ / f'{ds}.{data_name_}_layer{layer_index}').is_file()\n",
    "    return (p_data / data_name_ / f'{ds}.{data_name_}').is_file()\n",
    "\n",
    "\n",
    "def data_file_path(ds, data_name_, layer_index=None, write=False):\n",
    "    if write:\n",
    "        (p_data / data_name_).mkdir(exist_ok=True)\n",
    "        mode = 'wb'\n",
    "    else:\n",
    "        mode = 'rb'\n",
    "    if layer_index is not None:\n",
    "        return p_data / data_name_ / f'{ds}.{data_name_}_layer{layer_index}', mode\n",
    "    return p_data / data_name_ / f'{ds}.{data_name_}', mode\n",
    "\n",
    "\n",
    "def save_data(data, ds, data_name_, layer_index=None):\n",
    "    with open(*data_file_path(ds, data_name_, write=True, layer_index=layer_index)) as f_:\n",
    "        pickle.dump(data, f_)\n",
    "\n",
    "\n",
    "def load_data(ds, data_name_, layer_index=None):\n",
    "    with open(*data_file_path(ds, data_name_, write=False, layer_index=layer_index)) as f_:\n",
    "        return pickle.load(f_)\n",
    "\n",
    "\n",
    "def min_max_tuple(xx, yy):\n",
    "    return min(xx, yy), max(xx, yy)\n",
    "\n",
    "\n",
    "def reorder_nodes(input_graph):\n",
    "    return nx.convert_node_labels_to_integers(input_graph)\n",
    "\n",
    "\n",
    "def take_gcc(input_graph):\n",
    "    return input_graph.subgraph(max(nx.connected_components(input_graph), key=len))\n",
    "\n",
    "p = dict()"
   ],
   "metadata": {
    "collapsed": false,
    "pycharm": {
     "name": "#%%\n"
    }
   }
  },
  {
   "cell_type": "code",
   "execution_count": 16,
   "outputs": [
    {
     "name": "stdout",
     "output_type": "stream",
     "text": [
      "coauth-DBLP-proj-graph Graph with 1654109 nodes and 7713116 edges\n"
     ]
    },
    {
     "data": {
      "text/plain": "coauth-DBLP-proj-graph:   0%|          | 0/7713116 [00:00<?, ?it/s]",
      "application/vnd.jupyter.widget-view+json": {
       "version_major": 2,
       "version_minor": 0,
       "model_id": "67827c083e024a04b8e1aa809684f20e"
      }
     },
     "metadata": {},
     "output_type": "display_data"
    },
    {
     "name": "stdout",
     "output_type": "stream",
     "text": [
      "sx-superuser Graph with 189191 nodes and 712870 edges\n"
     ]
    },
    {
     "data": {
      "text/plain": "sx-superuser:   0%|          | 0/712870 [00:00<?, ?it/s]",
      "application/vnd.jupyter.widget-view+json": {
       "version_major": 2,
       "version_minor": 0,
       "model_id": "dff0a8d0a6104c10be1c1b56302cd3dc"
      }
     },
     "metadata": {},
     "output_type": "display_data"
    },
    {
     "name": "stdout",
     "output_type": "stream",
     "text": [
      "threads-math-sx-proj-graph Graph with 152702 nodes and 1088735 edges\n"
     ]
    },
    {
     "data": {
      "text/plain": "threads-math-sx-proj-graph:   0%|          | 0/1088735 [00:00<?, ?it/s]",
      "application/vnd.jupyter.widget-view+json": {
       "version_major": 2,
       "version_minor": 0,
       "model_id": "4f5c0eba67464afe80b66eaf5e302d02"
      }
     },
     "metadata": {},
     "output_type": "display_data"
    },
    {
     "name": "stdout",
     "output_type": "stream",
     "text": [
      "threads-stack-overflow-proj-graph Graph with 2301070 nodes and 20989078 edges\n"
     ]
    },
    {
     "data": {
      "text/plain": "threads-stack-overflow-proj-graph:   0%|          | 0/20989078 [00:00<?, ?it/s]",
      "application/vnd.jupyter.widget-view+json": {
       "version_major": 2,
       "version_minor": 0,
       "model_id": "e2e426808afa410db3d5207486ce0994"
      }
     },
     "metadata": {},
     "output_type": "display_data"
    },
    {
     "name": "stdout",
     "output_type": "stream",
     "text": [
      "coauth-MAG-Geology-proj-graph Graph with 898648 nodes and 4891112 edges\n"
     ]
    },
    {
     "data": {
      "text/plain": "coauth-MAG-Geology-proj-graph:   0%|          | 0/4891112 [00:00<?, ?it/s]",
      "application/vnd.jupyter.widget-view+json": {
       "version_major": 2,
       "version_minor": 0,
       "model_id": "3f478c6a03c9402fa1910fb2b31e2efa"
      }
     },
     "metadata": {},
     "output_type": "display_data"
    },
    {
     "name": "stdout",
     "output_type": "stream",
     "text": [
      "sx-mathoverflow Graph with 24668 nodes and 187939 edges\n"
     ]
    },
    {
     "data": {
      "text/plain": "sx-mathoverflow:   0%|          | 0/187939 [00:00<?, ?it/s]",
      "application/vnd.jupyter.widget-view+json": {
       "version_major": 2,
       "version_minor": 0,
       "model_id": "487e555ba84d4267a8778d2da4ed09c6"
      }
     },
     "metadata": {},
     "output_type": "display_data"
    },
    {
     "name": "stdout",
     "output_type": "stream",
     "text": [
      "sx-stackoverflow Graph with 2572345 nodes and 28177464 edges\n"
     ]
    },
    {
     "data": {
      "text/plain": "sx-stackoverflow:   0%|          | 0/28177464 [00:00<?, ?it/s]",
      "application/vnd.jupyter.widget-view+json": {
       "version_major": 2,
       "version_minor": 0,
       "model_id": "18fcd5533c544ddabf58b2f4a0209b7c"
      }
     },
     "metadata": {},
     "output_type": "display_data"
    },
    {
     "name": "stdout",
     "output_type": "stream",
     "text": [
      "threads-ask-ubuntu-proj-graph Graph with 82075 nodes and 182648 edges\n"
     ]
    },
    {
     "data": {
      "text/plain": "threads-ask-ubuntu-proj-graph:   0%|          | 0/182648 [00:00<?, ?it/s]",
      "application/vnd.jupyter.widget-view+json": {
       "version_major": 2,
       "version_minor": 0,
       "model_id": "d69680ac1a594302a5e59d765d5f2911"
      }
     },
     "metadata": {},
     "output_type": "display_data"
    },
    {
     "name": "stdout",
     "output_type": "stream",
     "text": [
      "OF Graph with 897 nodes and 71380 edges\n"
     ]
    },
    {
     "data": {
      "text/plain": "OF:   0%|          | 0/71380 [00:00<?, ?it/s]",
      "application/vnd.jupyter.widget-view+json": {
       "version_major": 2,
       "version_minor": 0,
       "model_id": "57470bcc212d4f5db60f1bafe487d160"
      }
     },
     "metadata": {},
     "output_type": "display_data"
    },
    {
     "name": "stdout",
     "output_type": "stream",
     "text": [
      "openflights Graph with 2905 nodes and 15645 edges\n"
     ]
    },
    {
     "data": {
      "text/plain": "openflights:   0%|          | 0/15645 [00:00<?, ?it/s]",
      "application/vnd.jupyter.widget-view+json": {
       "version_major": 2,
       "version_minor": 0,
       "model_id": "080c01f86765440abcb5643b84296121"
      }
     },
     "metadata": {},
     "output_type": "display_data"
    },
    {
     "name": "stdout",
     "output_type": "stream",
     "text": [
      "sx-askubuntu Graph with 152599 nodes and 453221 edges\n"
     ]
    },
    {
     "data": {
      "text/plain": "sx-askubuntu:   0%|          | 0/453221 [00:00<?, ?it/s]",
      "application/vnd.jupyter.widget-view+json": {
       "version_major": 2,
       "version_minor": 0,
       "model_id": "0cae43c2404c4496aa6b32f754fac05d"
      }
     },
     "metadata": {},
     "output_type": "display_data"
    },
    {
     "name": "stdout",
     "output_type": "stream",
     "text": [
      "coauth-DBLP-proj-graph Graph with 1654109 nodes and 7713116 edges\n"
     ]
    },
    {
     "data": {
      "text/plain": "coauth-DBLP-proj-graph:   0%|          | 0/7713116 [00:00<?, ?it/s]",
      "application/vnd.jupyter.widget-view+json": {
       "version_major": 2,
       "version_minor": 0,
       "model_id": "8fbb693b1ff7481ea62fe0350b579cd0"
      }
     },
     "metadata": {},
     "output_type": "display_data"
    },
    {
     "name": "stdout",
     "output_type": "stream",
     "text": [
      "sx-superuser Graph with 189191 nodes and 712870 edges\n"
     ]
    },
    {
     "data": {
      "text/plain": "sx-superuser:   0%|          | 0/712870 [00:00<?, ?it/s]",
      "application/vnd.jupyter.widget-view+json": {
       "version_major": 2,
       "version_minor": 0,
       "model_id": "a7d56341c4b44f71887e1ea219dc61ba"
      }
     },
     "metadata": {},
     "output_type": "display_data"
    },
    {
     "name": "stdout",
     "output_type": "stream",
     "text": [
      "threads-math-sx-proj-graph Graph with 152702 nodes and 1088735 edges\n"
     ]
    },
    {
     "data": {
      "text/plain": "threads-math-sx-proj-graph:   0%|          | 0/1088735 [00:00<?, ?it/s]",
      "application/vnd.jupyter.widget-view+json": {
       "version_major": 2,
       "version_minor": 0,
       "model_id": "3a6030faed56429194516b307048cce7"
      }
     },
     "metadata": {},
     "output_type": "display_data"
    },
    {
     "name": "stdout",
     "output_type": "stream",
     "text": [
      "threads-stack-overflow-proj-graph Graph with 2301070 nodes and 20989078 edges\n"
     ]
    },
    {
     "data": {
      "text/plain": "threads-stack-overflow-proj-graph:   0%|          | 0/20989078 [00:00<?, ?it/s]",
      "application/vnd.jupyter.widget-view+json": {
       "version_major": 2,
       "version_minor": 0,
       "model_id": "2dfb4f63407d43f0a64231934e4cc9f5"
      }
     },
     "metadata": {},
     "output_type": "display_data"
    },
    {
     "name": "stdout",
     "output_type": "stream",
     "text": [
      "coauth-MAG-Geology-proj-graph Graph with 898648 nodes and 4891112 edges\n"
     ]
    },
    {
     "data": {
      "text/plain": "coauth-MAG-Geology-proj-graph:   0%|          | 0/4891112 [00:00<?, ?it/s]",
      "application/vnd.jupyter.widget-view+json": {
       "version_major": 2,
       "version_minor": 0,
       "model_id": "60273defeee74116adaf3d70939bf396"
      }
     },
     "metadata": {},
     "output_type": "display_data"
    },
    {
     "name": "stdout",
     "output_type": "stream",
     "text": [
      "sx-mathoverflow Graph with 24668 nodes and 187939 edges\n"
     ]
    },
    {
     "data": {
      "text/plain": "sx-mathoverflow:   0%|          | 0/187939 [00:00<?, ?it/s]",
      "application/vnd.jupyter.widget-view+json": {
       "version_major": 2,
       "version_minor": 0,
       "model_id": "8f6eee0bea60416dbdced7aaf5921256"
      }
     },
     "metadata": {},
     "output_type": "display_data"
    },
    {
     "name": "stdout",
     "output_type": "stream",
     "text": [
      "sx-stackoverflow Graph with 2572345 nodes and 28177464 edges\n"
     ]
    },
    {
     "data": {
      "text/plain": "sx-stackoverflow:   0%|          | 0/28177464 [00:00<?, ?it/s]",
      "application/vnd.jupyter.widget-view+json": {
       "version_major": 2,
       "version_minor": 0,
       "model_id": "b0952ae2177c440abd729194027f9042"
      }
     },
     "metadata": {},
     "output_type": "display_data"
    },
    {
     "name": "stdout",
     "output_type": "stream",
     "text": [
      "threads-ask-ubuntu-proj-graph Graph with 82075 nodes and 182648 edges\n"
     ]
    },
    {
     "data": {
      "text/plain": "threads-ask-ubuntu-proj-graph:   0%|          | 0/182648 [00:00<?, ?it/s]",
      "application/vnd.jupyter.widget-view+json": {
       "version_major": 2,
       "version_minor": 0,
       "model_id": "8d29b1bef92c41258223b52df8a77db4"
      }
     },
     "metadata": {},
     "output_type": "display_data"
    }
   ],
   "source": [
    "import pickle\n",
    "import networkx as nx\n",
    "from pathlib import Path\n",
    "\n",
    "# read the raw data and convert it into graphs\n",
    "# saving edge text file, edges, weights, and edges-and-weights lists\n",
    "p['raw_data'] = Path('raw_data')\n",
    "assert p['raw_data'].is_dir()\n",
    "data_names = [\n",
    "    'graph',\n",
    "    'edge_txt',\n",
    "    'edges',\n",
    "    'weights',\n",
    "    'edges_and_weights',\n",
    "    'neighbors_list',\n",
    "    'number_of_CNs_list',\n",
    "]\n",
    "for data_name in data_names:\n",
    "    p[data_name] = p_data / data_name\n",
    "    p[data_name].mkdir(exist_ok=True)\n",
    "\n",
    "for f_raw_data in p['raw_data'].iterdir():\n",
    "    graph_name = [name_ for name_ in graph_names if name_ in f_raw_data.name][0]\n",
    "    G = nx.Graph()\n",
    "    with f_raw_data.open() as f:\n",
    "        dd = f.readlines()\n",
    "    for d in dd:\n",
    "        u, v, w = map(int, d.split())\n",
    "        G.add_edge(u, v, weight=w)\n",
    "    G = take_gcc(G)\n",
    "    G = reorder_nodes(G)\n",
    "    save_data(G, graph_name, 'graph')\n",
    "    print(graph_name, G)\n",
    "    n, m = g2nm[graph_name]\n",
    "    assert (n, m) == (G.number_of_nodes(), G.number_of_edges())\n",
    "    neighbors_list = [set(G[v]) for v in range(n)]\n",
    "    edges = []\n",
    "    weights = []\n",
    "    edges_and_weights = []\n",
    "    number_of_CNs_list = []\n",
    "    with (p['edge_txt'] / f'{graph_name}.edge_txt').open('w+') as f:\n",
    "        for u, v, w in iter_edges(G, with_weight=True, desc=graph_name):\n",
    "            u, v = min_max_tuple(u, v)\n",
    "            edges.append((u, v))\n",
    "            weights.append(w)\n",
    "            edges_and_weights.append((u, v, w))\n",
    "            cn_uv = len(neighbors_list[u] & neighbors_list[v])\n",
    "            number_of_CNs_list.append(cn_uv)\n",
    "            f.write(f'{u} {v} {w}\\n')\n",
    "    save_data(neighbors_list, graph_name, 'neighbors_list')\n",
    "    save_data(edges, graph_name, 'edges')\n",
    "    save_data(weights, graph_name, 'weights')\n",
    "    save_data(edges_and_weights, graph_name, 'edges_and_weights')\n",
    "    save_data(number_of_CNs_list, graph_name, 'number_of_CNs_list')"
   ],
   "metadata": {
    "collapsed": false,
    "pycharm": {
     "name": "#%%\n"
    }
   }
  },
  {
   "cell_type": "code",
   "execution_count": null,
   "outputs": [],
   "source": [
    "import subprocess\n",
    "\n",
    "# number of common neighbors c -> number of pairs sharing c CNs\n",
    "# for each dataset, among all the node pairs, for each number c of common neighbors,\n",
    "# we compute how many pairs share c CNs\n",
    "# we use the cpp program cn_pairs.cpp\n",
    "\n",
    "cmd_compile = ['g++', '-O3', '-std=c++2a', 'cn_pairs.cpp', '-o', 'cn_pairs', '-lpthread']\n",
    "subprocess.run(cmd_compile)\n",
    "for graph_name in graphs_sorted_m:\n",
    "    print(graph_name)\n",
    "    cmd_run = ['./cn_pairs', name2nameShort[graph_name]]\n",
    "    subprocess.run(cmd_run)\n",
    "    # string outfile = \"data/numberOfCN2numberOfPairs_cpp/\" + dataset_full + \".txt\";\n",
    "    with open(p_data / f'numberOfCN2numberOfPairs_cpp/{graph_name}.txt') as f:\n",
    "        dd = f.readlines()\n",
    "    cn2p = dict()\n",
    "    for d in dd:\n",
    "        try:\n",
    "            cn, p = map(int, d.split())\n",
    "            cn2p[cn] = p\n",
    "        except:\n",
    "            continue\n",
    "    save_data(cn2p, graph_name, f'numberOfCN2numberOfPairs')\n"
   ],
   "metadata": {
    "collapsed": false,
    "pycharm": {
     "name": "#%%\n"
    }
   }
  },
  {
   "cell_type": "code",
   "execution_count": 19,
   "outputs": [
    {
     "data": {
      "text/plain": "  0%|          | 0/9 [00:00<?, ?it/s]",
      "application/vnd.jupyter.widget-view+json": {
       "version_major": 2,
       "version_minor": 0,
       "model_id": "2a5e7f1e6e9d4251a36930babd860d95"
      }
     },
     "metadata": {},
     "output_type": "display_data"
    },
    {
     "name": "stdout",
     "output_type": "stream",
     "text": [
      "openflights layer2 Graph with 1351 nodes and 4608 edges\n",
      "openflights layer3 Graph with 624 nodes and 1507 edges\n",
      "openflights layer4 Graph with 319 nodes and 564 edges\n",
      "openflights layer5 Graph with 152 nodes and 210 edges\n",
      "openflights layer6 Graph with 76 nodes and 80 edges\n",
      "openflights layer7 Graph with 33 nodes and 28 edges\n",
      "openflights layer8 Graph with 11 nodes and 6 edges\n",
      "openflights layer9 Graph with 6 nodes and 3 edges\n",
      "openflights layer10 Graph with 4 nodes and 2 edges\n"
     ]
    },
    {
     "data": {
      "text/plain": "  0%|          | 0/9 [00:00<?, ?it/s]",
      "application/vnd.jupyter.widget-view+json": {
       "version_major": 2,
       "version_minor": 0,
       "model_id": "6474a0e1c56646a9af804d4935a9d2b9"
      }
     },
     "metadata": {},
     "output_type": "display_data"
    },
    {
     "name": "stdout",
     "output_type": "stream",
     "text": [
      "OF layer2 Graph with 856 nodes and 47266 edges\n",
      "OF layer3 Graph with 816 nodes and 35456 edges\n",
      "OF layer4 Graph with 782 nodes and 28546 edges\n",
      "OF layer5 Graph with 761 nodes and 23471 edges\n",
      "OF layer6 Graph with 747 nodes and 20008 edges\n",
      "OF layer7 Graph with 728 nodes and 17472 edges\n",
      "OF layer8 Graph with 714 nodes and 15349 edges\n",
      "OF layer9 Graph with 706 nodes and 13666 edges\n",
      "OF layer10 Graph with 684 nodes and 12272 edges\n"
     ]
    },
    {
     "data": {
      "text/plain": "  0%|          | 0/9 [00:00<?, ?it/s]",
      "application/vnd.jupyter.widget-view+json": {
       "version_major": 2,
       "version_minor": 0,
       "model_id": "67c4cbbe166b4de3a0bd500e22e5d759"
      }
     },
     "metadata": {},
     "output_type": "display_data"
    },
    {
     "name": "stdout",
     "output_type": "stream",
     "text": [
      "threads-ask-ubuntu-proj-graph layer2 Graph with 3379 nodes and 7297 edges\n",
      "threads-ask-ubuntu-proj-graph layer3 Graph with 855 nodes and 2090 edges\n",
      "threads-ask-ubuntu-proj-graph layer4 Graph with 373 nodes and 965 edges\n",
      "threads-ask-ubuntu-proj-graph layer5 Graph with 217 nodes and 571 edges\n",
      "threads-ask-ubuntu-proj-graph layer6 Graph with 156 nodes and 395 edges\n",
      "threads-ask-ubuntu-proj-graph layer7 Graph with 113 nodes and 293 edges\n",
      "threads-ask-ubuntu-proj-graph layer8 Graph with 92 nodes and 223 edges\n",
      "threads-ask-ubuntu-proj-graph layer9 Graph with 76 nodes and 179 edges\n",
      "threads-ask-ubuntu-proj-graph layer10 Graph with 65 nodes and 142 edges\n"
     ]
    },
    {
     "data": {
      "text/plain": "  0%|          | 0/9 [00:00<?, ?it/s]",
      "application/vnd.jupyter.widget-view+json": {
       "version_major": 2,
       "version_minor": 0,
       "model_id": "85530aa063ca4c83ad4826df3dca764a"
      }
     },
     "metadata": {},
     "output_type": "display_data"
    },
    {
     "name": "stdout",
     "output_type": "stream",
     "text": [
      "sx-mathoverflow layer2 Graph with 15610 nodes and 74493 edges\n",
      "sx-mathoverflow layer3 Graph with 9081 nodes and 36604 edges\n",
      "sx-mathoverflow layer4 Graph with 5771 nodes and 21364 edges\n",
      "sx-mathoverflow layer5 Graph with 3975 nodes and 13927 edges\n",
      "sx-mathoverflow layer6 Graph with 2870 nodes and 9655 edges\n",
      "sx-mathoverflow layer7 Graph with 2179 nodes and 7099 edges\n",
      "sx-mathoverflow layer8 Graph with 1706 nodes and 5418 edges\n",
      "sx-mathoverflow layer9 Graph with 1390 nodes and 4244 edges\n",
      "sx-mathoverflow layer10 Graph with 1177 nodes and 3442 edges\n"
     ]
    },
    {
     "data": {
      "text/plain": "  0%|          | 0/9 [00:00<?, ?it/s]",
      "application/vnd.jupyter.widget-view+json": {
       "version_major": 2,
       "version_minor": 0,
       "model_id": "d44b82216664440d9fa2cc395696ac97"
      }
     },
     "metadata": {},
     "output_type": "display_data"
    },
    {
     "name": "stdout",
     "output_type": "stream",
     "text": [
      "sx-askubuntu layer2 Graph with 69813 nodes and 135948 edges\n",
      "sx-askubuntu layer3 Graph with 34895 nodes and 56115 edges\n",
      "sx-askubuntu layer4 Graph with 19656 nodes and 28029 edges\n",
      "sx-askubuntu layer5 Graph with 11905 nodes and 15639 edges\n",
      "sx-askubuntu layer6 Graph with 7541 nodes and 9429 edges\n",
      "sx-askubuntu layer7 Graph with 5045 nodes and 6103 edges\n",
      "sx-askubuntu layer8 Graph with 3460 nodes and 4158 edges\n",
      "sx-askubuntu layer9 Graph with 2391 nodes and 2861 edges\n",
      "sx-askubuntu layer10 Graph with 1719 nodes and 2049 edges\n"
     ]
    },
    {
     "data": {
      "text/plain": "  0%|          | 0/9 [00:00<?, ?it/s]",
      "application/vnd.jupyter.widget-view+json": {
       "version_major": 2,
       "version_minor": 0,
       "model_id": "0ce61bae45274ebb859ff0c262b777e3"
      }
     },
     "metadata": {},
     "output_type": "display_data"
    },
    {
     "name": "stdout",
     "output_type": "stream",
     "text": [
      "sx-superuser layer2 Graph with 90133 nodes and 216296 edges\n",
      "sx-superuser layer3 Graph with 44619 nodes and 82475 edges\n",
      "sx-superuser layer4 Graph with 23819 nodes and 37655 edges\n",
      "sx-superuser layer5 Graph with 13346 nodes and 19486 edges\n",
      "sx-superuser layer6 Graph with 7907 nodes and 11016 edges\n",
      "sx-superuser layer7 Graph with 4860 nodes and 6741 edges\n",
      "sx-superuser layer8 Graph with 3207 nodes and 4447 edges\n",
      "sx-superuser layer9 Graph with 2165 nodes and 3074 edges\n",
      "sx-superuser layer10 Graph with 1517 nodes and 2215 edges\n"
     ]
    },
    {
     "data": {
      "text/plain": "  0%|          | 0/9 [00:00<?, ?it/s]",
      "application/vnd.jupyter.widget-view+json": {
       "version_major": 2,
       "version_minor": 0,
       "model_id": "c26f265a59a14d919eb537fb45185858"
      }
     },
     "metadata": {},
     "output_type": "display_data"
    },
    {
     "name": "stdout",
     "output_type": "stream",
     "text": [
      "threads-math-sx-proj-graph layer2 Graph with 21269 nodes and 128400 edges\n",
      "threads-math-sx-proj-graph layer3 Graph with 8382 nodes and 48605 edges\n",
      "threads-math-sx-proj-graph layer4 Graph with 4729 nodes and 26121 edges\n",
      "threads-math-sx-proj-graph layer5 Graph with 3157 nodes and 16517 edges\n",
      "threads-math-sx-proj-graph layer6 Graph with 2316 nodes and 11574 edges\n",
      "threads-math-sx-proj-graph layer7 Graph with 1818 nodes and 8565 edges\n",
      "threads-math-sx-proj-graph layer8 Graph with 1461 nodes and 6654 edges\n",
      "threads-math-sx-proj-graph layer9 Graph with 1191 nodes and 5321 edges\n",
      "threads-math-sx-proj-graph layer10 Graph with 1006 nodes and 4368 edges\n"
     ]
    },
    {
     "data": {
      "text/plain": "  0%|          | 0/9 [00:00<?, ?it/s]",
      "application/vnd.jupyter.widget-view+json": {
       "version_major": 2,
       "version_minor": 0,
       "model_id": "9cc4d5427a7e4742a9764f891680dc13"
      }
     },
     "metadata": {},
     "output_type": "display_data"
    },
    {
     "name": "stdout",
     "output_type": "stream",
     "text": [
      "coauth-MAG-Geology-proj-graph layer2 Graph with 314988 nodes and 1055077 edges\n",
      "coauth-MAG-Geology-proj-graph layer3 Graph with 171715 nodes and 446833 edges\n",
      "coauth-MAG-Geology-proj-graph layer4 Graph with 112362 nodes and 246944 edges\n",
      "coauth-MAG-Geology-proj-graph layer5 Graph with 80405 nodes and 156158 edges\n",
      "coauth-MAG-Geology-proj-graph layer6 Graph with 60995 nodes and 106988 edges\n",
      "coauth-MAG-Geology-proj-graph layer7 Graph with 48083 nodes and 77320 edges\n",
      "coauth-MAG-Geology-proj-graph layer8 Graph with 38750 nodes and 58123 edges\n",
      "coauth-MAG-Geology-proj-graph layer9 Graph with 31950 nodes and 44821 edges\n",
      "coauth-MAG-Geology-proj-graph layer10 Graph with 26683 nodes and 35456 edges\n"
     ]
    },
    {
     "data": {
      "text/plain": "  0%|          | 0/9 [00:00<?, ?it/s]",
      "application/vnd.jupyter.widget-view+json": {
       "version_major": 2,
       "version_minor": 0,
       "model_id": "0ea1a027690847dab1c12d1478354cf1"
      }
     },
     "metadata": {},
     "output_type": "display_data"
    },
    {
     "name": "stdout",
     "output_type": "stream",
     "text": [
      "coauth-DBLP-proj-graph layer2 Graph with 750120 nodes and 2269679 edges\n",
      "coauth-DBLP-proj-graph layer3 Graph with 465015 nodes and 1085489 edges\n",
      "coauth-DBLP-proj-graph layer4 Graph with 330533 nodes and 654182 edges\n",
      "coauth-DBLP-proj-graph layer5 Graph with 250618 nodes and 437964 edges\n",
      "coauth-DBLP-proj-graph layer6 Graph with 197325 nodes and 312595 edges\n",
      "coauth-DBLP-proj-graph layer7 Graph with 159509 nodes and 233294 edges\n",
      "coauth-DBLP-proj-graph layer8 Graph with 131523 nodes and 179278 edges\n",
      "coauth-DBLP-proj-graph layer9 Graph with 110096 nodes and 141170 edges\n",
      "coauth-DBLP-proj-graph layer10 Graph with 93133 nodes and 113328 edges\n"
     ]
    },
    {
     "data": {
      "text/plain": "  0%|          | 0/9 [00:00<?, ?it/s]",
      "application/vnd.jupyter.widget-view+json": {
       "version_major": 2,
       "version_minor": 0,
       "model_id": "31cf71b063054e3a8eb3447422947c6c"
      }
     },
     "metadata": {},
     "output_type": "display_data"
    },
    {
     "name": "stdout",
     "output_type": "stream",
     "text": [
      "threads-stack-overflow-proj-graph layer2 Graph with 286340 nodes and 1168210 edges\n",
      "threads-stack-overflow-proj-graph layer3 Graph with 95029 nodes and 350871 edges\n",
      "threads-stack-overflow-proj-graph layer4 Graph with 48314 nodes and 170618 edges\n",
      "threads-stack-overflow-proj-graph layer5 Graph with 30050 nodes and 102334 edges\n",
      "threads-stack-overflow-proj-graph layer6 Graph with 20891 nodes and 68997 edges\n",
      "threads-stack-overflow-proj-graph layer7 Graph with 15559 nodes and 49789 edges\n",
      "threads-stack-overflow-proj-graph layer8 Graph with 12103 nodes and 37685 edges\n",
      "threads-stack-overflow-proj-graph layer9 Graph with 9837 nodes and 29614 edges\n",
      "threads-stack-overflow-proj-graph layer10 Graph with 8202 nodes and 24044 edges\n"
     ]
    },
    {
     "data": {
      "text/plain": "  0%|          | 0/9 [00:00<?, ?it/s]",
      "application/vnd.jupyter.widget-view+json": {
       "version_major": 2,
       "version_minor": 0,
       "model_id": "32dc20d1958b41229e31ad12551c7eb4"
      }
     },
     "metadata": {},
     "output_type": "display_data"
    },
    {
     "name": "stdout",
     "output_type": "stream",
     "text": [
      "sx-stackoverflow layer2 Graph with 1691246 nodes and 9871784 edges\n",
      "sx-stackoverflow layer3 Graph with 1074137 nodes and 4137454 edges\n",
      "sx-stackoverflow layer4 Graph with 711977 nodes and 2055034 edges\n",
      "sx-stackoverflow layer5 Graph with 480249 nodes and 1126093 edges\n",
      "sx-stackoverflow layer6 Graph with 330553 nodes and 666010 edges\n",
      "sx-stackoverflow layer7 Graph with 232121 nodes and 420890 edges\n",
      "sx-stackoverflow layer8 Graph with 166821 nodes and 281717 edges\n",
      "sx-stackoverflow layer9 Graph with 122713 nodes and 197844 edges\n",
      "sx-stackoverflow layer10 Graph with 92370 nodes and 144587 edges\n"
     ]
    }
   ],
   "source": [
    "# make the layers\n",
    "data_names = [\n",
    "    'layers'\n",
    "]\n",
    "for data_name in data_names:\n",
    "    p[data_name] = p_data / data_name\n",
    "    p[data_name].mkdir(exist_ok=True)\n",
    "\n",
    "for graph_name in graphs_sorted_m:\n",
    "    G = load_data(graph_name, 'graph')\n",
    "    n, m = g2nm[graph_name]\n",
    "    weights = load_data(graph_name, 'weights')\n",
    "    edges_and_weights = load_data(graph_name, 'edges_and_weights')\n",
    "    w_max = max(weights)\n",
    "    for i_layer in trange(2, min(w_max, 10) + 1):\n",
    "        edges_and_weights = [(u, v, w) for u, v, w in edges_and_weights if w >= i_layer]\n",
    "        G_i = nx.Graph()\n",
    "        for u, v, w in edges_and_weights:\n",
    "            G_i.add_edge(u, v, weight=w)\n",
    "        save_data(G_i, graph_name, 'layers', layer_index=i_layer)\n",
    "        print(graph_name, f'layer{i_layer}', G_i)\n"
   ],
   "metadata": {
    "collapsed": false,
    "pycharm": {
     "name": "#%%\n"
    }
   }
  },
  {
   "cell_type": "code",
   "execution_count": null,
   "outputs": [],
   "source": [
    "import subprocess\n",
    "\n",
    "# number of common neighbors c -> number of pairs sharing c CNs for the layers\n",
    "# we use the cpp program cn_pairs_layers.cpp\n",
    "\n",
    "# string edge_input = \"data/edge_txt_layers/\" + dataset_full + \"_layer\" + to_string(i_layer) + \".edge_txt\";\n",
    "data_names = [\n",
    "    'edge_txt_layers'\n",
    "]\n",
    "for data_name in data_names:\n",
    "    p[data_name] = p_data / data_name\n",
    "    p[data_name].mkdir(exist_ok=True)\n",
    "\n",
    "cmd_compile = ['g++', '-O3', '-std=c++2a', 'cn_pairs_layers.cpp', '-o', 'cn_pairs_layers', '-lpthread']\n",
    "subprocess.run(cmd_compile)\n",
    "\n",
    "for graph_name in graphs_sorted_m:\n",
    "    print(graph_name)\n",
    "    n, m = g2nm[graph_name]\n",
    "    weights = load_data(graph_name, 'weights')\n",
    "    w_max = max(weights)\n",
    "    for i_layer in trange(2, min(w_max, 5) + 1):\n",
    "        G_i = load_data(graph_name, 'layers', layer_index=i_layer)\n",
    "        print(graph_name, f'layer{i_layer}', G_i)\n",
    "        G_i = reorder_nodes(G_i)\n",
    "        n_i, m_i = G_i.number_of_nodes(), G_i.number_of_edges()\n",
    "        with open(p['edge_txt_layers'] / f'{graph_name}_layer{i_layer}.edge_txt', 'w+') as f:\n",
    "            f.write(f'{n} {m}\\n')\n",
    "            for u, v in iter_edges(G_i):\n",
    "                f.write(f'{u} {v}\\n')\n",
    "            cmd_run = ['./cn_pairs_layers', name2nameShort[graph_name], str(i_layer)]\n",
    "            subprocess.run(cmd_run)\n",
    "        with open(p_data / f'numberOfCN2numberOfPairs_cpp/{graph_name}_layer{i_layer}.txt') as f:\n",
    "            dd = f.readlines()\n",
    "        cn2p = dict()\n",
    "        for d in dd:\n",
    "            try:\n",
    "                cn, p = map(int, d.split())\n",
    "                cn2p[cn] = p\n",
    "            except:\n",
    "                continue\n",
    "        save_data(cn2p, graph_name, f'numberOfCN2numberOfPairs_layers', layer_index=i_layer)"
   ],
   "metadata": {
    "collapsed": false,
    "pycharm": {
     "name": "#%%\n"
    }
   }
  },
  {
   "cell_type": "code",
   "execution_count": 20,
   "outputs": [
    {
     "data": {
      "text/plain": "openflights:   0%|          | 0/15645 [00:00<?, ?it/s]",
      "application/vnd.jupyter.widget-view+json": {
       "version_major": 2,
       "version_minor": 0,
       "model_id": "a16aead46eae455f8b6d6188244d14dc"
      }
     },
     "metadata": {},
     "output_type": "display_data"
    },
    {
     "data": {
      "text/plain": "OF:   0%|          | 0/71380 [00:00<?, ?it/s]",
      "application/vnd.jupyter.widget-view+json": {
       "version_major": 2,
       "version_minor": 0,
       "model_id": "0396008b6b964b509c2cad1ada9df236"
      }
     },
     "metadata": {},
     "output_type": "display_data"
    },
    {
     "data": {
      "text/plain": "threads-ask-ubuntu-proj-graph:   0%|          | 0/182648 [00:00<?, ?it/s]",
      "application/vnd.jupyter.widget-view+json": {
       "version_major": 2,
       "version_minor": 0,
       "model_id": "881bd7a36f57437cb85e994170fc0621"
      }
     },
     "metadata": {},
     "output_type": "display_data"
    },
    {
     "data": {
      "text/plain": "sx-mathoverflow:   0%|          | 0/187939 [00:00<?, ?it/s]",
      "application/vnd.jupyter.widget-view+json": {
       "version_major": 2,
       "version_minor": 0,
       "model_id": "1c4ab5016bf040a99fa343ffb8755ad7"
      }
     },
     "metadata": {},
     "output_type": "display_data"
    },
    {
     "data": {
      "text/plain": "sx-askubuntu:   0%|          | 0/453221 [00:00<?, ?it/s]",
      "application/vnd.jupyter.widget-view+json": {
       "version_major": 2,
       "version_minor": 0,
       "model_id": "42c5f8bfc57d45c7a8e2be6b0ef37cb5"
      }
     },
     "metadata": {},
     "output_type": "display_data"
    },
    {
     "data": {
      "text/plain": "sx-superuser:   0%|          | 0/712870 [00:00<?, ?it/s]",
      "application/vnd.jupyter.widget-view+json": {
       "version_major": 2,
       "version_minor": 0,
       "model_id": "47b37f8c7eee49a0acc0fe915a873db8"
      }
     },
     "metadata": {},
     "output_type": "display_data"
    },
    {
     "ename": "KeyboardInterrupt",
     "evalue": "",
     "output_type": "error",
     "traceback": [
      "\u001B[0;31m---------------------------------------------------------------------------\u001B[0m",
      "\u001B[0;31mKeyboardInterrupt\u001B[0m                         Traceback (most recent call last)",
      "Input \u001B[0;32mIn [20]\u001B[0m, in \u001B[0;36m<module>\u001B[0;34m\u001B[0m\n\u001B[1;32m     47\u001B[0m metric2value[\u001B[38;5;124m'\u001B[39m\u001B[38;5;124mPA\u001B[39m\u001B[38;5;124m'\u001B[39m] \u001B[38;5;241m=\u001B[39m du \u001B[38;5;241m*\u001B[39m dv\n\u001B[1;32m     48\u001B[0m metric2value[\u001B[38;5;124m'\u001B[39m\u001B[38;5;124mFM\u001B[39m\u001B[38;5;124m'\u001B[39m] \u001B[38;5;241m=\u001B[39m cn_uv\n\u001B[0;32m---> 49\u001B[0m \u001B[38;5;28;01mfor\u001B[39;00m x, y \u001B[38;5;129;01min\u001B[39;00m product(Nu \u001B[38;5;241m-\u001B[39m Nv, Nv \u001B[38;5;241m-\u001B[39m Nu):\n\u001B[1;32m     50\u001B[0m     \u001B[38;5;28;01mif\u001B[39;00m y \u001B[38;5;129;01min\u001B[39;00m neighbors_list[x]:\n\u001B[1;32m     51\u001B[0m         metric2value[\u001B[38;5;124m'\u001B[39m\u001B[38;5;124mFM\u001B[39m\u001B[38;5;124m'\u001B[39m] \u001B[38;5;241m+\u001B[39m\u001B[38;5;241m=\u001B[39m \u001B[38;5;241m1\u001B[39m\n",
      "\u001B[0;31mKeyboardInterrupt\u001B[0m: "
     ]
    }
   ],
   "source": [
    "import math\n",
    "from itertools import product\n",
    "\n",
    "# metrics\n",
    "metrics = [\n",
    "    'CN',\n",
    "    'SA',\n",
    "    'JC',\n",
    "    'HP',\n",
    "    'HD',\n",
    "    'SI',\n",
    "    'LI',\n",
    "    'AA',\n",
    "    'RA',\n",
    "    'PA',\n",
    "    'FM',\n",
    "    'DL',\n",
    "]\n",
    "data_names = [\n",
    "    f'{metric}-list' for metric in metrics\n",
    "]\n",
    "for data_name in data_names:\n",
    "    p[data_name] = p_data / data_name\n",
    "    p[data_name].mkdir(exist_ok=True)\n",
    "\n",
    "for graph_name in graphs_sorted_m:\n",
    "    edges = load_data(graph_name, 'edges')\n",
    "    neighbors_list = load_data(graph_name, 'neighbors_list')\n",
    "    metric2list = defaultdict(list)\n",
    "    degrees = [len(N) for N in neighbors_list]\n",
    "    for u, v in tqdm(edges, desc=graph_name, leave=False):\n",
    "        Nu, Nv = neighbors_list[u], neighbors_list[v]\n",
    "        du, dv = len(Nu), len(Nv)\n",
    "        metric2value = defaultdict(float)\n",
    "        CN_uv = Nu & Nv\n",
    "        cn_uv = len(CN_uv)\n",
    "        metric2value['CN'] = cn_uv\n",
    "        metric2value['SA'] = cn_uv / math.sqrt(du * dv)\n",
    "        metric2value['JC'] = cn_uv / (du + dv - cn_uv)\n",
    "        metric2value['HP'] = cn_uv / min(du, dv)\n",
    "        metric2value['HD'] = cn_uv / max(du, dv)\n",
    "        metric2value['SI'] = cn_uv / (du + dv)\n",
    "        metric2value['LI'] = cn_uv / (du * dv)\n",
    "        for x in CN_uv:\n",
    "            metric2value['AA'] += 1 / math.log(degrees[x])\n",
    "            metric2value['RA'] += 1 / degrees[x]\n",
    "        metric2value['PA'] = du * dv\n",
    "        metric2value['FM'] = cn_uv\n",
    "        for x, y in product(Nu - Nv, Nv - Nu):\n",
    "            if y in neighbors_list[x]:\n",
    "                metric2value['FM'] += 1\n",
    "        metric2value['DL'] = du + dv - 2\n",
    "        for metric in metrics:\n",
    "            metric2list[metric].append(metric2value[metric])\n",
    "    for metric, metric_list in metric2list.items():\n",
    "        save_data(metric_list, graph_name, f'{metric}-list')"
   ],
   "metadata": {
    "collapsed": false,
    "pycharm": {
     "name": "#%%\n"
    }
   }
  },
  {
   "cell_type": "code",
   "execution_count": null,
   "outputs": [
    {
     "name": "stdout",
     "output_type": "stream",
     "text": [
      "182647/182648sx-mathoverflow\n",
      "187938/187939sx-askubuntu\n",
      "453220/453221sx-superuser\n",
      "712869/712870threads-math-sx-proj-graph\n",
      "395303/1088735"
     ]
    }
   ],
   "source": [
    "import subprocess\n",
    "\n",
    "# metric (using cpp)\n",
    "# you may run the cpp version of the above cell (metrics.cpp) for higher speed\n",
    "# this cell will run the cpp program and read the output\n",
    "\n",
    "# you can change the variable \"graph_names_large\"\n",
    "# for changing the range of the datasets\n",
    "# on which the cpp program runs\n",
    "metrics = [\n",
    "    'CN',\n",
    "    'SA',\n",
    "    'JC',\n",
    "    'HP',\n",
    "    'HD',\n",
    "    'SI',\n",
    "    'LI',\n",
    "    'AA',\n",
    "    'RA',\n",
    "    'PA',\n",
    "    'FM',\n",
    "    'DL',\n",
    "]\n",
    "data_names = [\n",
    "    f'{metric}-list' for metric in metrics\n",
    "]\n",
    "for data_name in data_names:\n",
    "    p[data_name] = p_data / data_name\n",
    "    p[data_name].mkdir(exist_ok=True)\n",
    "\n",
    "graph_names_large = graphs_sorted_m[-6:]\n",
    "# compile the cpp file\n",
    "cmd_compile = ['g++', '-O3', '-std=c++2a', 'metrics.cpp', '-o', 'metric', '-lpthread']\n",
    "subprocess.run(cmd_compile)\n",
    "for graph_name in graph_names_large:\n",
    "    print(graph_name)\n",
    "    cmd_run = ['./metric', name2nameShort[graph_name]]\n",
    "    subprocess.run(cmd_run)\n",
    "    for metric in metrics:\n",
    "        metric_list = []\n",
    "        with open(p_data / f'metrics_cpp/{graph_name}_{metric.lower()}.txt') as f:\n",
    "            dd = f.readlines()\n",
    "        for d in dd:\n",
    "            try:\n",
    "                data_float = float(d)\n",
    "                metric_list.append(data_float)\n",
    "            except:\n",
    "                continue\n",
    "        save_data(metric_list, graph_name, f'{metric}-list')"
   ],
   "metadata": {
    "collapsed": false,
    "pycharm": {
     "name": "#%%\n",
     "is_executing": true
    }
   }
  },
  {
   "cell_type": "code",
   "execution_count": null,
   "outputs": [],
   "source": [
    "from sknetwork.topology import CoreDecomposition\n",
    "\n",
    "# edge coreness\n",
    "\n",
    "metric_names = [\n",
    "    'coreness_list',\n",
    "    'edge_coreness_list',\n",
    "]\n",
    "\n",
    "for graph_name in graphs_sorted_m:\n",
    "    n, m = g2nm[graph_name]\n",
    "    G = load_data(graph_name, 'graph')\n",
    "    adjacency = nx.adjacency_matrix(G, weight=None)\n",
    "    core = CoreDecomposition()\n",
    "    labels = core.fit_transform(adjacency)\n",
    "    coreness_list = [0 for _ in range(n)]\n",
    "    for i, v in enumerate(iter_nodes(G)):\n",
    "        coreness_list[v] = labels[i]\n",
    "    save_data(coreness_list, graph_name, 'coreness_list')\n",
    "    edges = load_data(graph_name, 'edges')\n",
    "    edge_coreness_list = []\n",
    "    for u, v in edges:\n",
    "        cu, cv = coreness_list[u], coreness_list[v]\n",
    "        edge_coreness_list.append(min(cu, cv))\n",
    "    save_data(edge_coreness_list, graph_name, 'edge_coreness_list')"
   ],
   "metadata": {
    "collapsed": false,
    "pycharm": {
     "name": "#%%\n"
    }
   }
  },
  {
   "cell_type": "code",
   "execution_count": null,
   "outputs": [],
   "source": [
    "import os\n",
    "from itertools import product\n",
    "\n",
    "# local path\n",
    "\n",
    "if '9-edge_weight' not in str(Path.cwd()):\n",
    "    os.chdir('9-edge_weight')\n",
    "\n",
    "metrics = [\n",
    "    'LP',\n",
    "]\n",
    "data_names = [\n",
    "    f'{metric}-list' for metric in metrics\n",
    "]\n",
    "for data_name in data_names:\n",
    "    p[data_name] = p_data / data_name\n",
    "    p[data_name].mkdir(exist_ok=True)\n",
    "\n",
    "for graph_name in graphs_sorted_m:\n",
    "    n, m = g2nm[graph_name]\n",
    "    G = load_data(graph_name, 'graph')\n",
    "    edges = load_data(graph_name, 'edges')\n",
    "    number_of_CNs_list = load_data(graph_name, 'number_of_CNs_list')\n",
    "    neighbors_list = load_data(graph_name, 'neighbors_list')\n",
    "    CN_list = load_data(graph_name, 'CN_list')\n",
    "    LP_list = []\n",
    "    epsilon = 0.001\n",
    "    for i, (u, v) in enumerate(tqdm(edges)):\n",
    "        LP_uv = 1. + CN_list[i]\n",
    "        Nu, Nv = neighbors_list[u], neighbors_list[v]\n",
    "        for x, y in product(Nu, Nv):\n",
    "            if x == y:\n",
    "                continue\n",
    "            if y in neighbors_list[x]:\n",
    "                LP_uv += epsilon\n",
    "        LP_list.append(LP_uv)\n",
    "    save_data(LP_list, graph_name, 'LP_list')\n"
   ],
   "metadata": {
    "collapsed": false,
    "pycharm": {
     "name": "#%%\n"
    }
   }
  },
  {
   "cell_type": "code",
   "execution_count": null,
   "outputs": [],
   "source": [
    "import subprocess\n",
    "\n",
    "# local path (using cpp)\n",
    "# you may run the cpp version of the above cell (local_path.cpp) for higher speed\n",
    "# this cell will run the cpp program and read the output\n",
    "\n",
    "# you can change the variable \"graph_names_large\"\n",
    "# for changing the range of the datasets\n",
    "# on which the cpp program runs\n",
    "\n",
    "\n",
    "metrics = [\n",
    "    'LP',\n",
    "]\n",
    "data_names = [\n",
    "    f'{metric}-list' for metric in metrics\n",
    "]\n",
    "for data_name in data_names:\n",
    "    p[data_name] = p_data / data_name\n",
    "    p[data_name].mkdir(exist_ok=True)\n",
    "\n",
    "graph_names_large = graphs_sorted_m\n",
    "# compile the cpp file\n",
    "cmd_compile = ['g++', '-O3', '-std=c++2a', 'local_path.cpp', '-o', 'local_path', '-lpthread']\n",
    "subprocess.run(cmd_compile)\n",
    "for graph_name in graph_names_large:\n",
    "    print(graph_name)\n",
    "    cmd_run = ['./local_path', name2nameShort[graph_name]]\n",
    "    subprocess.run(cmd_run)\n",
    "    for metric in metrics:\n",
    "        metric_list = []\n",
    "        with open(p_data / f'metric_cpp/{graph_name}_{metric.lower()}.txt') as f:\n",
    "            dd = f.readlines()\n",
    "        for d in dd:\n",
    "            try:\n",
    "                data_float = float(d)\n",
    "                metric_list.append(data_float)\n",
    "            except:\n",
    "                continue\n",
    "        save_data(metric_list, graph_name, f'{metric}-list')\n"
   ],
   "metadata": {
    "collapsed": false,
    "pycharm": {
     "name": "#%%\n"
    }
   }
  },
  {
   "cell_type": "code",
   "execution_count": null,
   "outputs": [],
   "source": [
    "import os\n",
    "import pickle\n",
    "\n",
    "# edge betweenness\n",
    "\n",
    "if '9-edge_weight' not in str(Path.cwd()):\n",
    "    os.chdir('9-edge_weight')\n",
    "\n",
    "metric_names = [\n",
    "    'EB',  # edge betweenness\n",
    "]\n",
    "for data_name in data_names:\n",
    "    p[data_name] = p_data / data_name\n",
    "    p[data_name].mkdir(exist_ok=True)\n",
    "\n",
    "for graph_name in graphs_sorted_m:\n",
    "    print(graph_name)\n",
    "    n, m = g2nm[graph_name]\n",
    "    G = load_data(graph_name, 'graph')\n",
    "    edges = load_data(graph_name, 'edges')\n",
    "    e2btwness = nx.edge_betweenness_centrality(G)\n",
    "    EB_list = []\n",
    "    for i, e in enumerate(tqdm(edges)):\n",
    "        u, v = e\n",
    "        try:\n",
    "            EB_list.append(e2btwness[e])\n",
    "        except:\n",
    "            EB_list.append(e2btwness[(v, u)])\n",
    "    save_data(EB_list, graph_name, 'EB-list')"
   ],
   "metadata": {
    "collapsed": false,
    "pycharm": {
     "name": "#%%\n"
    }
   }
  },
  {
   "cell_type": "code",
   "execution_count": null,
   "outputs": [],
   "source": [
    "import subprocess\n",
    "\n",
    "# edge betweenness (using cpp)\n",
    "# you may run the cpp version of the above cell (eb.cpp) for higher speed\n",
    "# this cell will run the cpp program and read the output\n",
    "\n",
    "# you can change the variable \"graph_names_large\"\n",
    "# for changing the range of the datasets\n",
    "# on which the cpp program runs\n",
    "\n",
    "metrics = [\n",
    "    'EB',\n",
    "]\n",
    "data_names = [f'{metric}-list' for metric in metrics]\n",
    "data_names += [\n",
    "    'edge_txt_BGL',\n",
    "]\n",
    "for data_name in data_names:\n",
    "    p[data_name] = p_data / data_name\n",
    "    p[data_name].mkdir(exist_ok=True)\n",
    "\n",
    "graph_names_large = graphs_sorted_m\n",
    "# compile the cpp file\n",
    "cmd_compile = ['g++', '-O3', '-std=c++2a', 'eb.cpp', '-o', 'eb', '-lpthread']\n",
    "subprocess.run(cmd_compile)\n",
    "for graph_name in graph_names_large:\n",
    "    print(graph_name)\n",
    "    n, m = g2nm[graph_name]\n",
    "    edges = load_data(graph_name, 'edges')\n",
    "    with open(p['edge_txt_BGL'] / f'{graph_name}.edge_txt_BGL', 'w+') as f:\n",
    "        f.write(f'{2 * m}\\n')\n",
    "        for u, v in edges:\n",
    "            f.write(f'{u} - {v}\\n')\n",
    "            f.write(f'{v} - {u}\\n')\n",
    "    cmd_run = ['./eb', name2nameShort[graph_name]]\n",
    "    subprocess.run(cmd_run)\n",
    "    norm_term = n * (n - 1) / 2\n",
    "    with open(p_data / f'metric_cpp/{graph_name}_eb.txt') as f:\n",
    "        dd = f.readlines()\n",
    "    e2eb = dict()\n",
    "    for d in dd:\n",
    "        u, v, eb = d.split()\n",
    "        u, v, eb = int(u), int(v), float(eb)\n",
    "        e2eb[min_max_tuple(u, v)] = eb\n",
    "    edges = load_data(graph_name, 'edges')\n",
    "    EB_list = []\n",
    "    for i, e in enumerate(tqdm(edges)):\n",
    "        u, v = e\n",
    "        try:\n",
    "            EB_list.append(e2eb[e] / norm_term)\n",
    "        except:\n",
    "            EB_list.append(e2eb[(v, u)] / norm_term)\n",
    "    save_data(EB_list, graph_name, 'EB_list')\n"
   ],
   "metadata": {
    "collapsed": false,
    "pycharm": {
     "name": "#%%\n"
    }
   }
  }
 ],
 "metadata": {
  "kernelspec": {
   "display_name": "Python 3",
   "language": "python",
   "name": "python3"
  },
  "language_info": {
   "codemirror_mode": {
    "name": "ipython",
    "version": 2
   },
   "file_extension": ".py",
   "mimetype": "text/x-python",
   "name": "python",
   "nbconvert_exporter": "python",
   "pygments_lexer": "ipython2",
   "version": "2.7.6"
  }
 },
 "nbformat": 4,
 "nbformat_minor": 0
}